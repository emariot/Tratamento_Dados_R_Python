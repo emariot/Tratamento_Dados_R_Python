{
 "cells": [
  {
   "cell_type": "markdown",
   "id": "rubber-statement",
   "metadata": {},
   "source": [
    "# Tratamento Íris\n",
    "---\n",
    "* 1. Sumarizar os dados com as médias de cada coluna de acordo com a categoria\n",
    "* 2. Extrair o valor inteiro de uma das colunas decimais\n",
    "* 3. Construir um gráfico mostrando a relação de duas variáveis numéricas "
   ]
  },
  {
   "cell_type": "code",
   "execution_count": 1,
   "id": "original-international",
   "metadata": {},
   "outputs": [
    {
     "name": "stderr",
     "output_type": "stream",
     "text": [
      "\n",
      "Attaching package: 'dplyr'\n",
      "\n",
      "The following objects are masked from 'package:stats':\n",
      "\n",
      "    filter, lag\n",
      "\n",
      "The following objects are masked from 'package:base':\n",
      "\n",
      "    intersect, setdiff, setequal, union\n",
      "\n",
      "\n",
      "Attaching package: 'data.table'\n",
      "\n",
      "The following objects are masked from 'package:dplyr':\n",
      "\n",
      "    between, first, last\n",
      "\n",
      "Registered S3 methods overwritten by 'ggplot2':\n",
      "  method         from \n",
      "  [.quosures     rlang\n",
      "  c.quosures     rlang\n",
      "  print.quosures rlang\n"
     ]
    }
   ],
   "source": [
    "library(dplyr)\n",
    "library(data.table)\n",
    "library(ggplot2)"
   ]
  },
  {
   "cell_type": "code",
   "execution_count": 2,
   "id": "infrared-brother",
   "metadata": {},
   "outputs": [
    {
     "data": {
      "text/html": [
       "<table>\n",
       "<thead><tr><th scope=col>Sepal.Length</th><th scope=col>Sepal.Width</th><th scope=col>Petal.Length</th><th scope=col>Petal.Width</th><th scope=col>Species</th></tr></thead>\n",
       "<tbody>\n",
       "\t<tr><td>5.1   </td><td>3.5   </td><td>1.4   </td><td>0.2   </td><td>setosa</td></tr>\n",
       "\t<tr><td>4.9   </td><td>3.0   </td><td>1.4   </td><td>0.2   </td><td>setosa</td></tr>\n",
       "\t<tr><td>4.7   </td><td>3.2   </td><td>1.3   </td><td>0.2   </td><td>setosa</td></tr>\n",
       "\t<tr><td>4.6   </td><td>3.1   </td><td>1.5   </td><td>0.2   </td><td>setosa</td></tr>\n",
       "\t<tr><td>5.0   </td><td>3.6   </td><td>1.4   </td><td>0.2   </td><td>setosa</td></tr>\n",
       "\t<tr><td>5.4   </td><td>3.9   </td><td>1.7   </td><td>0.4   </td><td>setosa</td></tr>\n",
       "</tbody>\n",
       "</table>\n"
      ],
      "text/latex": [
       "\\begin{tabular}{r|lllll}\n",
       " Sepal.Length & Sepal.Width & Petal.Length & Petal.Width & Species\\\\\n",
       "\\hline\n",
       "\t 5.1    & 3.5    & 1.4    & 0.2    & setosa\\\\\n",
       "\t 4.9    & 3.0    & 1.4    & 0.2    & setosa\\\\\n",
       "\t 4.7    & 3.2    & 1.3    & 0.2    & setosa\\\\\n",
       "\t 4.6    & 3.1    & 1.5    & 0.2    & setosa\\\\\n",
       "\t 5.0    & 3.6    & 1.4    & 0.2    & setosa\\\\\n",
       "\t 5.4    & 3.9    & 1.7    & 0.4    & setosa\\\\\n",
       "\\end{tabular}\n"
      ],
      "text/markdown": [
       "\n",
       "| Sepal.Length | Sepal.Width | Petal.Length | Petal.Width | Species |\n",
       "|---|---|---|---|---|\n",
       "| 5.1    | 3.5    | 1.4    | 0.2    | setosa |\n",
       "| 4.9    | 3.0    | 1.4    | 0.2    | setosa |\n",
       "| 4.7    | 3.2    | 1.3    | 0.2    | setosa |\n",
       "| 4.6    | 3.1    | 1.5    | 0.2    | setosa |\n",
       "| 5.0    | 3.6    | 1.4    | 0.2    | setosa |\n",
       "| 5.4    | 3.9    | 1.7    | 0.4    | setosa |\n",
       "\n"
      ],
      "text/plain": [
       "  Sepal.Length Sepal.Width Petal.Length Petal.Width Species\n",
       "1 5.1          3.5         1.4          0.2         setosa \n",
       "2 4.9          3.0         1.4          0.2         setosa \n",
       "3 4.7          3.2         1.3          0.2         setosa \n",
       "4 4.6          3.1         1.5          0.2         setosa \n",
       "5 5.0          3.6         1.4          0.2         setosa \n",
       "6 5.4          3.9         1.7          0.4         setosa "
      ]
     },
     "metadata": {},
     "output_type": "display_data"
    }
   ],
   "source": [
    "data = iris\n",
    "head(data)"
   ]
  },
  {
   "cell_type": "markdown",
   "id": "lightweight-representation",
   "metadata": {},
   "source": [
    "### 1. Sumarização"
   ]
  },
  {
   "cell_type": "code",
   "execution_count": 3,
   "id": "improving-gather",
   "metadata": {},
   "outputs": [],
   "source": [
    "medias_iris = summarise(group_by(data, Species),\n",
    "                        media_sepal_length = mean(Sepal.Length),\n",
    "                        media_sepal_width = mean(Sepal.Width),\n",
    "                        media_petal_length = mean(Petal.Length),\n",
    "                        media_petal_width= mean(Petal.Width))"
   ]
  },
  {
   "cell_type": "code",
   "execution_count": 7,
   "id": "passing-engagement",
   "metadata": {},
   "outputs": [
    {
     "name": "stdout",
     "output_type": "stream",
     "text": [
      "[1] \"Dados Sumarizados\"\n"
     ]
    },
    {
     "data": {
      "text/html": [
       "<table>\n",
       "<thead><tr><th scope=col>Species</th><th scope=col>media_sepal_length</th><th scope=col>media_sepal_width</th><th scope=col>media_petal_length</th><th scope=col>media_petal_width</th></tr></thead>\n",
       "<tbody>\n",
       "\t<tr><td>setosa    </td><td>5.006     </td><td>3.428     </td><td>1.462     </td><td>0.246     </td></tr>\n",
       "\t<tr><td>versicolor</td><td>5.936     </td><td>2.770     </td><td>4.260     </td><td>1.326     </td></tr>\n",
       "\t<tr><td>virginica </td><td>6.588     </td><td>2.974     </td><td>5.552     </td><td>2.026     </td></tr>\n",
       "</tbody>\n",
       "</table>\n"
      ],
      "text/latex": [
       "\\begin{tabular}{r|lllll}\n",
       " Species & media\\_sepal\\_length & media\\_sepal\\_width & media\\_petal\\_length & media\\_petal\\_width\\\\\n",
       "\\hline\n",
       "\t setosa     & 5.006      & 3.428      & 1.462      & 0.246     \\\\\n",
       "\t versicolor & 5.936      & 2.770      & 4.260      & 1.326     \\\\\n",
       "\t virginica  & 6.588      & 2.974      & 5.552      & 2.026     \\\\\n",
       "\\end{tabular}\n"
      ],
      "text/markdown": [
       "\n",
       "| Species | media_sepal_length | media_sepal_width | media_petal_length | media_petal_width |\n",
       "|---|---|---|---|---|\n",
       "| setosa     | 5.006      | 3.428      | 1.462      | 0.246      |\n",
       "| versicolor | 5.936      | 2.770      | 4.260      | 1.326      |\n",
       "| virginica  | 6.588      | 2.974      | 5.552      | 2.026      |\n",
       "\n"
      ],
      "text/plain": [
       "  Species    media_sepal_length media_sepal_width media_petal_length\n",
       "1 setosa     5.006              3.428             1.462             \n",
       "2 versicolor 5.936              2.770             4.260             \n",
       "3 virginica  6.588              2.974             5.552             \n",
       "  media_petal_width\n",
       "1 0.246            \n",
       "2 1.326            \n",
       "3 2.026            "
      ]
     },
     "metadata": {},
     "output_type": "display_data"
    }
   ],
   "source": [
    "print('Dados Sumarizados')\n",
    "medias_iris"
   ]
  },
  {
   "cell_type": "markdown",
   "id": "caroline-script",
   "metadata": {},
   "source": [
    "### 2. Extração"
   ]
  },
  {
   "cell_type": "code",
   "execution_count": 12,
   "id": "ordered-cancellation",
   "metadata": {},
   "outputs": [
    {
     "name": "stdout",
     "output_type": "stream",
     "text": [
      "[1] \"Coluna com apenas números Inteiros\"\n"
     ]
    },
    {
     "data": {
      "text/html": [
       "<table>\n",
       "<thead><tr><th scope=col>Sepal.Length</th><th scope=col>Sepal.Width</th><th scope=col>Petal.Length</th><th scope=col>Petal.Width</th><th scope=col>Species</th></tr></thead>\n",
       "<tbody>\n",
       "\t<tr><td>5     </td><td>3.5   </td><td>1.4   </td><td>0.2   </td><td>setosa</td></tr>\n",
       "\t<tr><td>4     </td><td>3.0   </td><td>1.4   </td><td>0.2   </td><td>setosa</td></tr>\n",
       "\t<tr><td>4     </td><td>3.2   </td><td>1.3   </td><td>0.2   </td><td>setosa</td></tr>\n",
       "\t<tr><td>4     </td><td>3.1   </td><td>1.5   </td><td>0.2   </td><td>setosa</td></tr>\n",
       "\t<tr><td>5     </td><td>3.6   </td><td>1.4   </td><td>0.2   </td><td>setosa</td></tr>\n",
       "\t<tr><td>5     </td><td>3.9   </td><td>1.7   </td><td>0.4   </td><td>setosa</td></tr>\n",
       "</tbody>\n",
       "</table>\n"
      ],
      "text/latex": [
       "\\begin{tabular}{r|lllll}\n",
       " Sepal.Length & Sepal.Width & Petal.Length & Petal.Width & Species\\\\\n",
       "\\hline\n",
       "\t 5      & 3.5    & 1.4    & 0.2    & setosa\\\\\n",
       "\t 4      & 3.0    & 1.4    & 0.2    & setosa\\\\\n",
       "\t 4      & 3.2    & 1.3    & 0.2    & setosa\\\\\n",
       "\t 4      & 3.1    & 1.5    & 0.2    & setosa\\\\\n",
       "\t 5      & 3.6    & 1.4    & 0.2    & setosa\\\\\n",
       "\t 5      & 3.9    & 1.7    & 0.4    & setosa\\\\\n",
       "\\end{tabular}\n"
      ],
      "text/markdown": [
       "\n",
       "| Sepal.Length | Sepal.Width | Petal.Length | Petal.Width | Species |\n",
       "|---|---|---|---|---|\n",
       "| 5      | 3.5    | 1.4    | 0.2    | setosa |\n",
       "| 4      | 3.0    | 1.4    | 0.2    | setosa |\n",
       "| 4      | 3.2    | 1.3    | 0.2    | setosa |\n",
       "| 4      | 3.1    | 1.5    | 0.2    | setosa |\n",
       "| 5      | 3.6    | 1.4    | 0.2    | setosa |\n",
       "| 5      | 3.9    | 1.7    | 0.4    | setosa |\n",
       "\n"
      ],
      "text/plain": [
       "  Sepal.Length Sepal.Width Petal.Length Petal.Width Species\n",
       "1 5            3.5         1.4          0.2         setosa \n",
       "2 4            3.0         1.4          0.2         setosa \n",
       "3 4            3.2         1.3          0.2         setosa \n",
       "4 4            3.1         1.5          0.2         setosa \n",
       "5 5            3.6         1.4          0.2         setosa \n",
       "6 5            3.9         1.7          0.4         setosa "
      ]
     },
     "metadata": {},
     "output_type": "display_data"
    }
   ],
   "source": [
    "data_iris_id = data.table(data) # Transforma em table\n",
    "data_iris_id$Sepal.Length = as.integer(data_iris_id$Sepal.Length)\n",
    "print('Coluna com apenas números Inteiros')\n",
    "head(data_iris_id)"
   ]
  },
  {
   "cell_type": "code",
   "execution_count": 14,
   "id": "detected-incidence",
   "metadata": {},
   "outputs": [
    {
     "data": {
      "image/png": "[encoded data removed]",
      "text/plain": [
       "plot without title"
      ]
     },
     "metadata": {},
     "output_type": "display_data"
    }
   ],
   "source": [
    "### 2. Gráfico\n",
    "ggplot(data=data, aes(x=Petal.Width, y=Petal.Length))+\n",
    "    geom_point(aes(color=Species), size=3)+\n",
    "    ggtitle(\"Largura e Comprimento das Pétalas\")+\n",
    "    labs(x=\"Largura da Pétala\", y=\"Comprimento das Pétalas\")+\n",
    "    theme_bw()+\n",
    "    theme(title=element_text(size=15,color=\"turquoise4\"))"
   ]
  },
  {
   "cell_type": "code",
   "execution_count": null,
   "id": "linear-accordance",
   "metadata": {},
   "outputs": [],
   "source": []
  }
 ],
 "metadata": {
  "kernelspec": {
   "display_name": "R",
   "language": "R",
   "name": "ir"
  },
  "language_info": {
   "codemirror_mode": "r",
   "file_extension": ".r",
   "mimetype": "text/x-r-source",
   "name": "R",
   "pygments_lexer": "r",
   "version": "3.6.1"
  }
 },
 "nbformat": 4,
 "nbformat_minor": 5
}
