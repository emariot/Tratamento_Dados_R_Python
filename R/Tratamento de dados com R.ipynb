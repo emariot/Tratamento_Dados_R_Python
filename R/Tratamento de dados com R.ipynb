{
 "cells": [
  {
   "cell_type": "markdown",
   "metadata": {},
   "source": [
    "# Limpeza e Tratamento de Dados\n",
    "-----\n",
    "DataSet = Churn.csv\n",
    "* Análise de retotividade de clientes"
   ]
  },
  {
   "cell_type": "code",
   "execution_count": 1,
   "metadata": {},
   "outputs": [
    {
     "data": {
      "text/html": [
       "'C:/Users/Mariot/Documents/PythonFundamentos/Tratamento de dados em R e Python/R'"
      ],
      "text/latex": [
       "'C:/Users/Mariot/Documents/PythonFundamentos/Tratamento de dados em R e Python/R'"
      ],
      "text/markdown": [
       "'C:/Users/Mariot/Documents/PythonFundamentos/Tratamento de dados em R e Python/R'"
      ],
      "text/plain": [
       "[1] \"C:/Users/Mariot/Documents/PythonFundamentos/Tratamento de dados em R e Python/R\""
      ]
     },
     "metadata": {},
     "output_type": "display_data"
    }
   ],
   "source": [
    "getwd()"
   ]
  },
  {
   "cell_type": "code",
   "execution_count": 2,
   "metadata": {
    "scrolled": true
   },
   "outputs": [],
   "source": [
    "# Strings vazias exportar como 'na', Strings como Fatores\n",
    "dados = read.csv(\"datasets/Churn.csv\", sep=\";\", na.strings=\"\", stringsAsFactors=T)"
   ]
  },
  {
   "cell_type": "code",
   "execution_count": 3,
   "metadata": {},
   "outputs": [
    {
     "data": {
      "text/html": [
       "<table>\n",
       "<thead><tr><th scope=col>X0</th><th scope=col>X1</th><th scope=col>X2</th><th scope=col>X3</th><th scope=col>X4</th><th scope=col>X4.1</th><th scope=col>X6</th><th scope=col>X7</th><th scope=col>X8</th><th scope=col>X9</th><th scope=col>X10</th><th scope=col>X11</th></tr></thead>\n",
       "<tbody>\n",
       "\t<tr><td>1        </td><td>619      </td><td>RS       </td><td>Feminino </td><td>42       </td><td>2        </td><td>       0 </td><td>1        </td><td>1        </td><td>1        </td><td>10134888 </td><td>1        </td></tr>\n",
       "\t<tr><td>2        </td><td>608      </td><td>SC       </td><td>Feminino </td><td>41       </td><td>1        </td><td> 8380786 </td><td>1        </td><td>0        </td><td>1        </td><td>11254258 </td><td>0        </td></tr>\n",
       "\t<tr><td>3        </td><td>502      </td><td>RS       </td><td>Feminino </td><td>42       </td><td>8        </td><td> 1596608 </td><td>3        </td><td>1        </td><td>0        </td><td>11393157 </td><td>1        </td></tr>\n",
       "\t<tr><td>4        </td><td>699      </td><td>RS       </td><td>Feminino </td><td>39       </td><td>1        </td><td>       0 </td><td>2        </td><td>0        </td><td>0        </td><td> 9382663 </td><td>0        </td></tr>\n",
       "\t<tr><td>5        </td><td>850      </td><td>SC       </td><td>Feminino </td><td>43       </td><td>2        </td><td>12551082 </td><td>1        </td><td>1        </td><td>1        </td><td>  790841 </td><td>0        </td></tr>\n",
       "\t<tr><td>6        </td><td>645      </td><td>SC       </td><td>Masculino</td><td>44       </td><td>8        </td><td>11375578 </td><td>2        </td><td>1        </td><td>0        </td><td>14975671 </td><td>1        </td></tr>\n",
       "</tbody>\n",
       "</table>\n"
      ],
      "text/latex": [
       "\\begin{tabular}{r|llllllllllll}\n",
       " X0 & X1 & X2 & X3 & X4 & X4.1 & X6 & X7 & X8 & X9 & X10 & X11\\\\\n",
       "\\hline\n",
       "\t 1         & 619       & RS        & Feminino  & 42        & 2         &        0  & 1         & 1         & 1         & 10134888  & 1        \\\\\n",
       "\t 2         & 608       & SC        & Feminino  & 41        & 1         &  8380786  & 1         & 0         & 1         & 11254258  & 0        \\\\\n",
       "\t 3         & 502       & RS        & Feminino  & 42        & 8         &  1596608  & 3         & 1         & 0         & 11393157  & 1        \\\\\n",
       "\t 4         & 699       & RS        & Feminino  & 39        & 1         &        0  & 2         & 0         & 0         &  9382663  & 0        \\\\\n",
       "\t 5         & 850       & SC        & Feminino  & 43        & 2         & 12551082  & 1         & 1         & 1         &   790841  & 0        \\\\\n",
       "\t 6         & 645       & SC        & Masculino & 44        & 8         & 11375578  & 2         & 1         & 0         & 14975671  & 1        \\\\\n",
       "\\end{tabular}\n"
      ],
      "text/markdown": [
       "\n",
       "| X0 | X1 | X2 | X3 | X4 | X4.1 | X6 | X7 | X8 | X9 | X10 | X11 |\n",
       "|---|---|---|---|---|---|---|---|---|---|---|---|\n",
       "| 1         | 619       | RS        | Feminino  | 42        | 2         |        0  | 1         | 1         | 1         | 10134888  | 1         |\n",
       "| 2         | 608       | SC        | Feminino  | 41        | 1         |  8380786  | 1         | 0         | 1         | 11254258  | 0         |\n",
       "| 3         | 502       | RS        | Feminino  | 42        | 8         |  1596608  | 3         | 1         | 0         | 11393157  | 1         |\n",
       "| 4         | 699       | RS        | Feminino  | 39        | 1         |        0  | 2         | 0         | 0         |  9382663  | 0         |\n",
       "| 5         | 850       | SC        | Feminino  | 43        | 2         | 12551082  | 1         | 1         | 1         |   790841  | 0         |\n",
       "| 6         | 645       | SC        | Masculino | 44        | 8         | 11375578  | 2         | 1         | 0         | 14975671  | 1         |\n",
       "\n"
      ],
      "text/plain": [
       "  X0 X1  X2 X3        X4 X4.1 X6       X7 X8 X9 X10      X11\n",
       "1 1  619 RS Feminino  42 2           0 1  1  1  10134888 1  \n",
       "2 2  608 SC Feminino  41 1     8380786 1  0  1  11254258 0  \n",
       "3 3  502 RS Feminino  42 8     1596608 3  1  0  11393157 1  \n",
       "4 4  699 RS Feminino  39 1           0 2  0  0   9382663 0  \n",
       "5 5  850 SC Feminino  43 2    12551082 1  1  1    790841 0  \n",
       "6 6  645 SC Masculino 44 8    11375578 2  1  0  14975671 1  "
      ]
     },
     "metadata": {},
     "output_type": "display_data"
    }
   ],
   "source": [
    "head(dados)"
   ]
  },
  {
   "cell_type": "code",
   "execution_count": 4,
   "metadata": {},
   "outputs": [
    {
     "data": {
      "text/plain": [
       "       X0               X1         X2              X3            X4       \n",
       " Min.   :   1.0   Min.   :376.0   PR:257   F        :  2   Min.   :-20.0  \n",
       " 1st Qu.: 251.5   1st Qu.:580.0   RP:  1   Fem      :  1   1st Qu.: 32.0  \n",
       " Median : 501.0   Median :653.0   RS:478   Feminino :461   Median : 37.0  \n",
       " Mean   : 500.9   Mean   :648.6   SC:258   M        :  6   Mean   : 38.9  \n",
       " 3rd Qu.: 750.5   3rd Qu.:721.0   SP:  4   Masculino:521   3rd Qu.: 44.0  \n",
       " Max.   :1000.0   Max.   :850.0   TD:  1   NA's     :  8   Max.   :140.0  \n",
       "                                                                          \n",
       "      X4.1              X6                 X7              X8        \n",
       " Min.   : 0.000   Min.   :       0   Min.   :1.000   Min.   :0.0000  \n",
       " 1st Qu.: 2.000   1st Qu.:       0   1st Qu.:1.000   1st Qu.:0.0000  \n",
       " Median : 5.000   Median : 8958835   Median :1.000   Median :1.0000  \n",
       " Mean   : 5.069   Mean   : 7164928   Mean   :1.527   Mean   :0.7027  \n",
       " 3rd Qu.: 8.000   3rd Qu.:12586844   3rd Qu.:2.000   3rd Qu.:1.0000  \n",
       " Max.   :10.000   Max.   :21177431   Max.   :4.000   Max.   :1.0000  \n",
       "                                                                     \n",
       "       X9              X10                 X11        \n",
       " Min.   :0.0000   Min.   :9.677e+03   Min.   :0.0000  \n",
       " 1st Qu.:0.0000   1st Qu.:3.029e+06   1st Qu.:0.0000  \n",
       " Median :1.0000   Median :8.703e+06   Median :0.0000  \n",
       " Mean   :0.5095   Mean   :3.529e+07   Mean   :0.2032  \n",
       " 3rd Qu.:1.0000   3rd Qu.:1.405e+07   3rd Qu.:0.0000  \n",
       " Max.   :1.0000   Max.   :1.193e+10   Max.   :1.0000  \n",
       "                  NA's   :7                           "
      ]
     },
     "metadata": {},
     "output_type": "display_data"
    }
   ],
   "source": [
    "summary(dados)"
   ]
  },
  {
   "cell_type": "code",
   "execution_count": 5,
   "metadata": {},
   "outputs": [
    {
     "data": {
      "text/html": [
       "<table>\n",
       "<thead><tr><th scope=col>id</th><th scope=col>Score</th><th scope=col>Estado</th><th scope=col>Genero</th><th scope=col>Idade</th><th scope=col>Patrimonio</th><th scope=col>Saldo</th><th scope=col>Produtos</th><th scope=col>TemCartCredito</th><th scope=col>Ativo</th><th scope=col>Salario</th><th scope=col>Saiu</th></tr></thead>\n",
       "<tbody>\n",
       "\t<tr><td>1        </td><td>619      </td><td>RS       </td><td>Feminino </td><td>42       </td><td>2        </td><td>       0 </td><td>1        </td><td>1        </td><td>1        </td><td>10134888 </td><td>1        </td></tr>\n",
       "\t<tr><td>2        </td><td>608      </td><td>SC       </td><td>Feminino </td><td>41       </td><td>1        </td><td> 8380786 </td><td>1        </td><td>0        </td><td>1        </td><td>11254258 </td><td>0        </td></tr>\n",
       "\t<tr><td>3        </td><td>502      </td><td>RS       </td><td>Feminino </td><td>42       </td><td>8        </td><td> 1596608 </td><td>3        </td><td>1        </td><td>0        </td><td>11393157 </td><td>1        </td></tr>\n",
       "\t<tr><td>4        </td><td>699      </td><td>RS       </td><td>Feminino </td><td>39       </td><td>1        </td><td>       0 </td><td>2        </td><td>0        </td><td>0        </td><td> 9382663 </td><td>0        </td></tr>\n",
       "\t<tr><td>5        </td><td>850      </td><td>SC       </td><td>Feminino </td><td>43       </td><td>2        </td><td>12551082 </td><td>1        </td><td>1        </td><td>1        </td><td>  790841 </td><td>0        </td></tr>\n",
       "\t<tr><td>6        </td><td>645      </td><td>SC       </td><td>Masculino</td><td>44       </td><td>8        </td><td>11375578 </td><td>2        </td><td>1        </td><td>0        </td><td>14975671 </td><td>1        </td></tr>\n",
       "</tbody>\n",
       "</table>\n"
      ],
      "text/latex": [
       "\\begin{tabular}{r|llllllllllll}\n",
       " id & Score & Estado & Genero & Idade & Patrimonio & Saldo & Produtos & TemCartCredito & Ativo & Salario & Saiu\\\\\n",
       "\\hline\n",
       "\t 1         & 619       & RS        & Feminino  & 42        & 2         &        0  & 1         & 1         & 1         & 10134888  & 1        \\\\\n",
       "\t 2         & 608       & SC        & Feminino  & 41        & 1         &  8380786  & 1         & 0         & 1         & 11254258  & 0        \\\\\n",
       "\t 3         & 502       & RS        & Feminino  & 42        & 8         &  1596608  & 3         & 1         & 0         & 11393157  & 1        \\\\\n",
       "\t 4         & 699       & RS        & Feminino  & 39        & 1         &        0  & 2         & 0         & 0         &  9382663  & 0        \\\\\n",
       "\t 5         & 850       & SC        & Feminino  & 43        & 2         & 12551082  & 1         & 1         & 1         &   790841  & 0        \\\\\n",
       "\t 6         & 645       & SC        & Masculino & 44        & 8         & 11375578  & 2         & 1         & 0         & 14975671  & 1        \\\\\n",
       "\\end{tabular}\n"
      ],
      "text/markdown": [
       "\n",
       "| id | Score | Estado | Genero | Idade | Patrimonio | Saldo | Produtos | TemCartCredito | Ativo | Salario | Saiu |\n",
       "|---|---|---|---|---|---|---|---|---|---|---|---|\n",
       "| 1         | 619       | RS        | Feminino  | 42        | 2         |        0  | 1         | 1         | 1         | 10134888  | 1         |\n",
       "| 2         | 608       | SC        | Feminino  | 41        | 1         |  8380786  | 1         | 0         | 1         | 11254258  | 0         |\n",
       "| 3         | 502       | RS        | Feminino  | 42        | 8         |  1596608  | 3         | 1         | 0         | 11393157  | 1         |\n",
       "| 4         | 699       | RS        | Feminino  | 39        | 1         |        0  | 2         | 0         | 0         |  9382663  | 0         |\n",
       "| 5         | 850       | SC        | Feminino  | 43        | 2         | 12551082  | 1         | 1         | 1         |   790841  | 0         |\n",
       "| 6         | 645       | SC        | Masculino | 44        | 8         | 11375578  | 2         | 1         | 0         | 14975671  | 1         |\n",
       "\n"
      ],
      "text/plain": [
       "  id Score Estado Genero    Idade Patrimonio Saldo    Produtos TemCartCredito\n",
       "1 1  619   RS     Feminino  42    2                 0 1        1             \n",
       "2 2  608   SC     Feminino  41    1           8380786 1        0             \n",
       "3 3  502   RS     Feminino  42    8           1596608 3        1             \n",
       "4 4  699   RS     Feminino  39    1                 0 2        0             \n",
       "5 5  850   SC     Feminino  43    2          12551082 1        1             \n",
       "6 6  645   SC     Masculino 44    8          11375578 2        1             \n",
       "  Ativo Salario  Saiu\n",
       "1 1     10134888 1   \n",
       "2 1     11254258 0   \n",
       "3 0     11393157 1   \n",
       "4 0      9382663 0   \n",
       "5 1       790841 0   \n",
       "6 0     14975671 1   "
      ]
     },
     "metadata": {},
     "output_type": "display_data"
    }
   ],
   "source": [
    "# Renomeando as colunas da tabela\n",
    "colnames(dados)=c(\"id\", \"Score\", \"Estado\", \"Genero\", \"Idade\", \"Patrimonio\", \"Saldo\", \"Produtos\", \"TemCartCredito\", \"Ativo\", \"Salario\", \"Saiu\")\n",
    "head(dados)"
   ]
  },
  {
   "cell_type": "code",
   "execution_count": 6,
   "metadata": {},
   "outputs": [
    {
     "data": {
      "text/html": [
       "<ol class=list-inline>\n",
       "\t<li>'id'</li>\n",
       "\t<li>'Score'</li>\n",
       "\t<li>'Estado'</li>\n",
       "\t<li>'Genero'</li>\n",
       "\t<li>'Idade'</li>\n",
       "\t<li>'Patrimonio'</li>\n",
       "\t<li>'Saldo'</li>\n",
       "\t<li>'Produtos'</li>\n",
       "\t<li>'TemCartCredito'</li>\n",
       "\t<li>'Ativo'</li>\n",
       "\t<li>'Salario'</li>\n",
       "\t<li>'Saiu'</li>\n",
       "</ol>\n"
      ],
      "text/latex": [
       "\\begin{enumerate*}\n",
       "\\item 'id'\n",
       "\\item 'Score'\n",
       "\\item 'Estado'\n",
       "\\item 'Genero'\n",
       "\\item 'Idade'\n",
       "\\item 'Patrimonio'\n",
       "\\item 'Saldo'\n",
       "\\item 'Produtos'\n",
       "\\item 'TemCartCredito'\n",
       "\\item 'Ativo'\n",
       "\\item 'Salario'\n",
       "\\item 'Saiu'\n",
       "\\end{enumerate*}\n"
      ],
      "text/markdown": [
       "1. 'id'\n",
       "2. 'Score'\n",
       "3. 'Estado'\n",
       "4. 'Genero'\n",
       "5. 'Idade'\n",
       "6. 'Patrimonio'\n",
       "7. 'Saldo'\n",
       "8. 'Produtos'\n",
       "9. 'TemCartCredito'\n",
       "10. 'Ativo'\n",
       "11. 'Salario'\n",
       "12. 'Saiu'\n",
       "\n",
       "\n"
      ],
      "text/plain": [
       " [1] \"id\"             \"Score\"          \"Estado\"         \"Genero\"        \n",
       " [5] \"Idade\"          \"Patrimonio\"     \"Saldo\"          \"Produtos\"      \n",
       " [9] \"TemCartCredito\" \"Ativo\"          \"Salario\"        \"Saiu\"          "
      ]
     },
     "metadata": {},
     "output_type": "display_data"
    }
   ],
   "source": [
    "colnames(dados)"
   ]
  },
  {
   "cell_type": "markdown",
   "metadata": {},
   "source": [
    "# Exploração dos dados\n",
    "---\n",
    "1. Dados categóricos: Estado e Gênero\n",
    "2. Dados quantitativos: demais"
   ]
  },
  {
   "cell_type": "code",
   "execution_count": 7,
   "metadata": {},
   "outputs": [
    {
     "data": {
      "image/png": "[encoded data removed]",
      "text/plain": [
       "Plot with title \"Estados\""
      ]
     },
     "metadata": {},
     "output_type": "display_data"
    }
   ],
   "source": [
    "# 1. Estado\n",
    "counts = table(dados$Estado)\n",
    "barplot(counts, main='Estados', xlab='Estados')\n",
    "# Possivelmente existam dados incorretos em RP, SP e TD"
   ]
  },
  {
   "cell_type": "code",
   "execution_count": 8,
   "metadata": {},
   "outputs": [
    {
     "data": {
      "image/png": "[encoded data removed]",
      "text/plain": [
       "Plot with title \"Genero\""
      ]
     },
     "metadata": {},
     "output_type": "display_data"
    }
   ],
   "source": [
    "# 1. Gênero\n",
    "count = table(dados$Genero)\n",
    "barplot(count,main='Genero', xlab='Genero')\n",
    "# Assim como na variável Estado, em Genero existem dados incorretos em F, Fem e M\n",
    "## Provavelmente F e Fem sejam das mesmas categorias"
   ]
  },
  {
   "cell_type": "code",
   "execution_count": 9,
   "metadata": {},
   "outputs": [
    {
     "data": {
      "text/plain": [
       "   Min. 1st Qu.  Median    Mean 3rd Qu.    Max. \n",
       "  376.0   580.0   653.0   648.6   721.0   850.0 "
      ]
     },
     "metadata": {},
     "output_type": "display_data"
    }
   ],
   "source": [
    "# 2. Dados numéricos\n",
    "## Score\n",
    "summary(dados$Score)\n"
   ]
  },
  {
   "cell_type": "code",
   "execution_count": 10,
   "metadata": {},
   "outputs": [
    {
     "data": {
      "image/png": "[encoded data removed]",
      "text/plain": [
       "plot without title"
      ]
     },
     "metadata": {},
     "output_type": "display_data"
    }
   ],
   "source": [
    "boxplot(dados$Score)"
   ]
  },
  {
   "cell_type": "code",
   "execution_count": 11,
   "metadata": {},
   "outputs": [
    {
     "data": {
      "image/png": "[encoded data removed]",
      "text/plain": [
       "Plot with title \"Histogram of dados$Score\""
      ]
     },
     "metadata": {},
     "output_type": "display_data"
    }
   ],
   "source": [
    "hist(dados$Score)"
   ]
  },
  {
   "cell_type": "code",
   "execution_count": 12,
   "metadata": {},
   "outputs": [
    {
     "data": {
      "text/plain": [
       "   Min. 1st Qu.  Median    Mean 3rd Qu.    Max. \n",
       "  -20.0    32.0    37.0    38.9    44.0   140.0 "
      ]
     },
     "metadata": {},
     "output_type": "display_data"
    }
   ],
   "source": [
    "## Idade\n",
    "summary(dados$Idade)\n",
    "## Apresenta uma anomalia no min e no max"
   ]
  },
  {
   "cell_type": "code",
   "execution_count": 13,
   "metadata": {},
   "outputs": [
    {
     "data": {
      "text/plain": [
       "    Min.  1st Qu.   Median     Mean  3rd Qu.     Max. \n",
       "       0        0  8958835  7164928 12586844 21177431 "
      ]
     },
     "metadata": {},
     "output_type": "display_data"
    }
   ],
   "source": [
    "## Saldo\n",
    "summary(dados$Saldo)"
   ]
  },
  {
   "cell_type": "code",
   "execution_count": 14,
   "metadata": {},
   "outputs": [
    {
     "data": {
      "image/png": "[encoded data removed]",
      "text/plain": [
       "plot without title"
      ]
     },
     "metadata": {},
     "output_type": "display_data"
    }
   ],
   "source": [
    "boxplot(dados$Saldo)"
   ]
  },
  {
   "cell_type": "code",
   "execution_count": 15,
   "metadata": {},
   "outputs": [
    {
     "data": {
      "image/png": "[encoded data removed]",
      "text/plain": [
       "Plot with title \"Histogram of dados$Saldo\""
      ]
     },
     "metadata": {},
     "output_type": "display_data"
    }
   ],
   "source": [
    "hist(dados$Saldo)"
   ]
  },
  {
   "cell_type": "code",
   "execution_count": 16,
   "metadata": {},
   "outputs": [
    {
     "data": {
      "text/plain": [
       "     Min.   1st Qu.    Median      Mean   3rd Qu.      Max.      NA's \n",
       "9.677e+03 3.029e+06 8.703e+06 3.529e+07 1.405e+07 1.193e+10         7 "
      ]
     },
     "metadata": {},
     "output_type": "display_data"
    }
   ],
   "source": [
    "## Salário\n",
    "summary(dados$Salario)\n",
    "### Apresenta 7 valores Nas que devem ser tratados "
   ]
  },
  {
   "cell_type": "code",
   "execution_count": 17,
   "metadata": {},
   "outputs": [
    {
     "data": {
      "image/png": "[encoded data removed]",
      "text/plain": [
       "plot without title"
      ]
     },
     "metadata": {},
     "output_type": "display_data"
    }
   ],
   "source": [
    "boxplot(dados$Salario, outline=F)"
   ]
  },
  {
   "cell_type": "markdown",
   "metadata": {},
   "source": [
    "# Processo de transformação dos dados com problemas\n",
    "---"
   ]
  },
  {
   "cell_type": "code",
   "execution_count": 18,
   "metadata": {},
   "outputs": [
    {
     "data": {
      "text/html": [
       "<table>\n",
       "<thead><tr><th></th><th scope=col>id</th><th scope=col>Score</th><th scope=col>Estado</th><th scope=col>Genero</th><th scope=col>Idade</th><th scope=col>Patrimonio</th><th scope=col>Saldo</th><th scope=col>Produtos</th><th scope=col>TemCartCredito</th><th scope=col>Ativo</th><th scope=col>Salario</th><th scope=col>Saiu</th></tr></thead>\n",
       "<tbody>\n",
       "\t<tr><th scope=row>18</th><td> 18      </td><td>549      </td><td>SC       </td><td>Feminino </td><td>24       </td><td> 9       </td><td>       0 </td><td>2        </td><td>1        </td><td>1        </td><td>      NA </td><td>0        </td></tr>\n",
       "\t<tr><th scope=row>53</th><td> 53      </td><td>788      </td><td>RS       </td><td>Feminino </td><td>33       </td><td> 5       </td><td>       0 </td><td>2        </td><td>0        </td><td>0        </td><td>      NA </td><td>0        </td></tr>\n",
       "\t<tr><th scope=row>65</th><td> 65      </td><td>603      </td><td>PR       </td><td>NA       </td><td>26       </td><td> 4       </td><td>10916637 </td><td>1        </td><td>1        </td><td>1        </td><td> 9284067 </td><td>0        </td></tr>\n",
       "\t<tr><th scope=row>85</th><td> 86      </td><td>493      </td><td>RS       </td><td>NA       </td><td>46       </td><td> 4       </td><td>       0 </td><td>2        </td><td>1        </td><td>0        </td><td>  190766 </td><td>0        </td></tr>\n",
       "\t<tr><th scope=row>180</th><td>181      </td><td>754      </td><td>PR       </td><td>Feminino </td><td>55       </td><td> 3       </td><td>16160881 </td><td>1        </td><td>1        </td><td>0        </td><td>      NA </td><td>1        </td></tr>\n",
       "\t<tr><th scope=row>214</th><td>215      </td><td>676      </td><td>RS       </td><td>NA       </td><td>34       </td><td> 1       </td><td> 6309501 </td><td>1        </td><td>1        </td><td>1        </td><td> 4064581 </td><td>0        </td></tr>\n",
       "\t<tr><th scope=row>297</th><td>298      </td><td>714      </td><td>RS       </td><td>NA       </td><td>31       </td><td> 4       </td><td>12516926 </td><td>1        </td><td>1        </td><td>1        </td><td>10663689 </td><td>0        </td></tr>\n",
       "\t<tr><th scope=row>331</th><td>332      </td><td>656      </td><td>RS       </td><td>Masculino</td><td>50       </td><td> 7       </td><td>       0 </td><td>2        </td><td>0        </td><td>1        </td><td>      NA </td><td>0        </td></tr>\n",
       "\t<tr><th scope=row>371</th><td>372      </td><td>801      </td><td>SC       </td><td>NA       </td><td>42       </td><td> 4       </td><td>14194767 </td><td>1        </td><td>1        </td><td>1        </td><td> 1059829 </td><td>0        </td></tr>\n",
       "\t<tr><th scope=row>427</th><td>428      </td><td>492      </td><td>PR       </td><td>Masculino</td><td>39       </td><td>10       </td><td>12457665 </td><td>2        </td><td>1        </td><td>0        </td><td>      NA </td><td>0        </td></tr>\n",
       "\t<tr><th scope=row>502</th><td>503      </td><td>692      </td><td>RS       </td><td>NA       </td><td>54       </td><td> 5       </td><td>       0 </td><td>2        </td><td>1        </td><td>1        </td><td> 8872184 </td><td>0        </td></tr>\n",
       "\t<tr><th scope=row>551</th><td>552      </td><td>721      </td><td>PR       </td><td>Feminino </td><td>36       </td><td> 3       </td><td> 6525307 </td><td>2        </td><td>1        </td><td>0        </td><td>      NA </td><td>0        </td></tr>\n",
       "\t<tr><th scope=row>964</th><td>965      </td><td>529      </td><td>SC       </td><td>NA       </td><td>63       </td><td> 4       </td><td> 9613411 </td><td>3        </td><td>1        </td><td>0        </td><td>10873296 </td><td>1        </td></tr>\n",
       "\t<tr><th scope=row>970</th><td>971      </td><td>649      </td><td>PR       </td><td>NA       </td><td>70       </td><td> 9       </td><td>11685471 </td><td>2        </td><td>0        </td><td>1        </td><td>10712579 </td><td>0        </td></tr>\n",
       "\t<tr><th scope=row>984</th><td>985      </td><td>614      </td><td>PR       </td><td>Feminino </td><td>35       </td><td> 6       </td><td>12810028 </td><td>1        </td><td>0        </td><td>0        </td><td>      NA </td><td>1        </td></tr>\n",
       "</tbody>\n",
       "</table>\n"
      ],
      "text/latex": [
       "\\begin{tabular}{r|llllllllllll}\n",
       "  & id & Score & Estado & Genero & Idade & Patrimonio & Saldo & Produtos & TemCartCredito & Ativo & Salario & Saiu\\\\\n",
       "\\hline\n",
       "\t18 &  18       & 549       & SC        & Feminino  & 24        &  9        &        0  & 2         & 1         & 1         &       NA  & 0        \\\\\n",
       "\t53 &  53       & 788       & RS        & Feminino  & 33        &  5        &        0  & 2         & 0         & 0         &       NA  & 0        \\\\\n",
       "\t65 &  65       & 603       & PR        & NA        & 26        &  4        & 10916637  & 1         & 1         & 1         &  9284067  & 0        \\\\\n",
       "\t85 &  86       & 493       & RS        & NA        & 46        &  4        &        0  & 2         & 1         & 0         &   190766  & 0        \\\\\n",
       "\t180 & 181       & 754       & PR        & Feminino  & 55        &  3        & 16160881  & 1         & 1         & 0         &       NA  & 1        \\\\\n",
       "\t214 & 215       & 676       & RS        & NA        & 34        &  1        &  6309501  & 1         & 1         & 1         &  4064581  & 0        \\\\\n",
       "\t297 & 298       & 714       & RS        & NA        & 31        &  4        & 12516926  & 1         & 1         & 1         & 10663689  & 0        \\\\\n",
       "\t331 & 332       & 656       & RS        & Masculino & 50        &  7        &        0  & 2         & 0         & 1         &       NA  & 0        \\\\\n",
       "\t371 & 372       & 801       & SC        & NA        & 42        &  4        & 14194767  & 1         & 1         & 1         &  1059829  & 0        \\\\\n",
       "\t427 & 428       & 492       & PR        & Masculino & 39        & 10        & 12457665  & 2         & 1         & 0         &       NA  & 0        \\\\\n",
       "\t502 & 503       & 692       & RS        & NA        & 54        &  5        &        0  & 2         & 1         & 1         &  8872184  & 0        \\\\\n",
       "\t551 & 552       & 721       & PR        & Feminino  & 36        &  3        &  6525307  & 2         & 1         & 0         &       NA  & 0        \\\\\n",
       "\t964 & 965       & 529       & SC        & NA        & 63        &  4        &  9613411  & 3         & 1         & 0         & 10873296  & 1        \\\\\n",
       "\t970 & 971       & 649       & PR        & NA        & 70        &  9        & 11685471  & 2         & 0         & 1         & 10712579  & 0        \\\\\n",
       "\t984 & 985       & 614       & PR        & Feminino  & 35        &  6        & 12810028  & 1         & 0         & 0         &       NA  & 1        \\\\\n",
       "\\end{tabular}\n"
      ],
      "text/markdown": [
       "\n",
       "| <!--/--> | id | Score | Estado | Genero | Idade | Patrimonio | Saldo | Produtos | TemCartCredito | Ativo | Salario | Saiu |\n",
       "|---|---|---|---|---|---|---|---|---|---|---|---|---|\n",
       "| 18 |  18       | 549       | SC        | Feminino  | 24        |  9        |        0  | 2         | 1         | 1         |       NA  | 0         |\n",
       "| 53 |  53       | 788       | RS        | Feminino  | 33        |  5        |        0  | 2         | 0         | 0         |       NA  | 0         |\n",
       "| 65 |  65       | 603       | PR        | NA        | 26        |  4        | 10916637  | 1         | 1         | 1         |  9284067  | 0         |\n",
       "| 85 |  86       | 493       | RS        | NA        | 46        |  4        |        0  | 2         | 1         | 0         |   190766  | 0         |\n",
       "| 180 | 181       | 754       | PR        | Feminino  | 55        |  3        | 16160881  | 1         | 1         | 0         |       NA  | 1         |\n",
       "| 214 | 215       | 676       | RS        | NA        | 34        |  1        |  6309501  | 1         | 1         | 1         |  4064581  | 0         |\n",
       "| 297 | 298       | 714       | RS        | NA        | 31        |  4        | 12516926  | 1         | 1         | 1         | 10663689  | 0         |\n",
       "| 331 | 332       | 656       | RS        | Masculino | 50        |  7        |        0  | 2         | 0         | 1         |       NA  | 0         |\n",
       "| 371 | 372       | 801       | SC        | NA        | 42        |  4        | 14194767  | 1         | 1         | 1         |  1059829  | 0         |\n",
       "| 427 | 428       | 492       | PR        | Masculino | 39        | 10        | 12457665  | 2         | 1         | 0         |       NA  | 0         |\n",
       "| 502 | 503       | 692       | RS        | NA        | 54        |  5        |        0  | 2         | 1         | 1         |  8872184  | 0         |\n",
       "| 551 | 552       | 721       | PR        | Feminino  | 36        |  3        |  6525307  | 2         | 1         | 0         |       NA  | 0         |\n",
       "| 964 | 965       | 529       | SC        | NA        | 63        |  4        |  9613411  | 3         | 1         | 0         | 10873296  | 1         |\n",
       "| 970 | 971       | 649       | PR        | NA        | 70        |  9        | 11685471  | 2         | 0         | 1         | 10712579  | 0         |\n",
       "| 984 | 985       | 614       | PR        | Feminino  | 35        |  6        | 12810028  | 1         | 0         | 0         |       NA  | 1         |\n",
       "\n"
      ],
      "text/plain": [
       "    id  Score Estado Genero    Idade Patrimonio Saldo    Produtos\n",
       "18   18 549   SC     Feminino  24     9                0 2       \n",
       "53   53 788   RS     Feminino  33     5                0 2       \n",
       "65   65 603   PR     NA        26     4         10916637 1       \n",
       "85   86 493   RS     NA        46     4                0 2       \n",
       "180 181 754   PR     Feminino  55     3         16160881 1       \n",
       "214 215 676   RS     NA        34     1          6309501 1       \n",
       "297 298 714   RS     NA        31     4         12516926 1       \n",
       "331 332 656   RS     Masculino 50     7                0 2       \n",
       "371 372 801   SC     NA        42     4         14194767 1       \n",
       "427 428 492   PR     Masculino 39    10         12457665 2       \n",
       "502 503 692   RS     NA        54     5                0 2       \n",
       "551 552 721   PR     Feminino  36     3          6525307 2       \n",
       "964 965 529   SC     NA        63     4          9613411 3       \n",
       "970 971 649   PR     NA        70     9         11685471 2       \n",
       "984 985 614   PR     Feminino  35     6         12810028 1       \n",
       "    TemCartCredito Ativo Salario  Saiu\n",
       "18  1              1           NA 0   \n",
       "53  0              0           NA 0   \n",
       "65  1              1      9284067 0   \n",
       "85  1              0       190766 0   \n",
       "180 1              0           NA 1   \n",
       "214 1              1      4064581 0   \n",
       "297 1              1     10663689 0   \n",
       "331 0              1           NA 0   \n",
       "371 1              1      1059829 0   \n",
       "427 1              0           NA 0   \n",
       "502 1              1      8872184 0   \n",
       "551 1              0           NA 0   \n",
       "964 1              0     10873296 1   \n",
       "970 0              1     10712579 0   \n",
       "984 0              0           NA 1   "
      ]
     },
     "metadata": {},
     "output_type": "display_data"
    }
   ],
   "source": [
    "# Valores faltantes\n",
    "dados[!complete.cases(dados),]"
   ]
  },
  {
   "cell_type": "code",
   "execution_count": 19,
   "metadata": {},
   "outputs": [
    {
     "data": {
      "text/plain": [
       "     Min.   1st Qu.    Median      Mean   3rd Qu.      Max.      NA's \n",
       "9.677e+03 3.029e+06 8.703e+06 3.529e+07 1.405e+07 1.193e+10         7 "
      ]
     },
     "metadata": {},
     "output_type": "display_data"
    }
   ],
   "source": [
    "# Salários\n",
    "summary(dados$Salario)"
   ]
  },
  {
   "cell_type": "code",
   "execution_count": 20,
   "metadata": {},
   "outputs": [
    {
     "data": {
      "text/html": [
       "8703249.5"
      ],
      "text/latex": [
       "8703249.5"
      ],
      "text/markdown": [
       "8703249.5"
      ],
      "text/plain": [
       "[1] 8703250"
      ]
     },
     "metadata": {},
     "output_type": "display_data"
    }
   ],
   "source": [
    "# Extraindo a mediana dos Salários/sem Na\n",
    "m = median(dados$Salario, na.rm = T)\n",
    "m"
   ]
  },
  {
   "cell_type": "code",
   "execution_count": 21,
   "metadata": {},
   "outputs": [],
   "source": [
    "# Substituindo os valores Na em Salario com a mediana\n",
    "dados[is.na(dados$Salario),]$Salario = m"
   ]
  },
  {
   "cell_type": "code",
   "execution_count": 22,
   "metadata": {},
   "outputs": [
    {
     "data": {
      "text/html": [
       "<table>\n",
       "<thead><tr><th scope=col>id</th><th scope=col>Score</th><th scope=col>Estado</th><th scope=col>Genero</th><th scope=col>Idade</th><th scope=col>Patrimonio</th><th scope=col>Saldo</th><th scope=col>Produtos</th><th scope=col>TemCartCredito</th><th scope=col>Ativo</th><th scope=col>Salario</th><th scope=col>Saiu</th></tr></thead>\n",
       "<tbody>\n",
       "</tbody>\n",
       "</table>\n"
      ],
      "text/latex": [
       "\\begin{tabular}{r|llllllllllll}\n",
       " id & Score & Estado & Genero & Idade & Patrimonio & Saldo & Produtos & TemCartCredito & Ativo & Salario & Saiu\\\\\n",
       "\\hline\n",
       "\\end{tabular}\n"
      ],
      "text/markdown": [
       "\n",
       "| id | Score | Estado | Genero | Idade | Patrimonio | Saldo | Produtos | TemCartCredito | Ativo | Salario | Saiu |\n",
       "|---|---|---|---|---|---|---|---|---|---|---|---|\n",
       "\n"
      ],
      "text/plain": [
       "     id Score Estado Genero Idade Patrimonio Saldo Produtos TemCartCredito\n",
       "     Ativo Salario Saiu"
      ]
     },
     "metadata": {},
     "output_type": "display_data"
    }
   ],
   "source": [
    "dados[!complete.cases(dados$Salario),]"
   ]
  },
  {
   "cell_type": "code",
   "execution_count": 23,
   "metadata": {},
   "outputs": [
    {
     "data": {
      "text/html": [
       "<ol class=list-inline>\n",
       "\t<li>Feminino</li>\n",
       "\t<li>Masculino</li>\n",
       "\t<li>M</li>\n",
       "\t<li>&lt;NA&gt;</li>\n",
       "\t<li>F</li>\n",
       "\t<li>Fem</li>\n",
       "</ol>\n",
       "\n",
       "<details>\n",
       "\t<summary style=display:list-item;cursor:pointer>\n",
       "\t\t<strong>Levels</strong>:\n",
       "\t</summary>\n",
       "\t<ol class=list-inline>\n",
       "\t\t<li>'F'</li>\n",
       "\t\t<li>'Fem'</li>\n",
       "\t\t<li>'Feminino'</li>\n",
       "\t\t<li>'M'</li>\n",
       "\t\t<li>'Masculino'</li>\n",
       "\t</ol>\n",
       "</details>"
      ],
      "text/latex": [
       "\\begin{enumerate*}\n",
       "\\item Feminino\n",
       "\\item Masculino\n",
       "\\item M\n",
       "\\item <NA>\n",
       "\\item F\n",
       "\\item Fem\n",
       "\\end{enumerate*}\n",
       "\n",
       "\\emph{Levels}: \\begin{enumerate*}\n",
       "\\item 'F'\n",
       "\\item 'Fem'\n",
       "\\item 'Feminino'\n",
       "\\item 'M'\n",
       "\\item 'Masculino'\n",
       "\\end{enumerate*}\n"
      ],
      "text/markdown": [
       "1. Feminino\n",
       "2. Masculino\n",
       "3. M\n",
       "4. &lt;NA&gt;\n",
       "5. F\n",
       "6. Fem\n",
       "\n",
       "\n",
       "\n",
       "**Levels**: 1. 'F'\n",
       "2. 'Fem'\n",
       "3. 'Feminino'\n",
       "4. 'M'\n",
       "5. 'Masculino'\n",
       "\n",
       "\n"
      ],
      "text/plain": [
       "[1] Feminino  Masculino M         <NA>      F         Fem      \n",
       "Levels: F Fem Feminino M Masculino"
      ]
     },
     "metadata": {},
     "output_type": "display_data"
    }
   ],
   "source": [
    "# Falta de padronização na variável Genero\n",
    "unique(dados$Genero)"
   ]
  },
  {
   "cell_type": "code",
   "execution_count": 24,
   "metadata": {},
   "outputs": [
    {
     "data": {
      "text/html": [
       "<dl class=dl-horizontal>\n",
       "\t<dt>F</dt>\n",
       "\t\t<dd>2</dd>\n",
       "\t<dt>Fem</dt>\n",
       "\t\t<dd>1</dd>\n",
       "\t<dt>Feminino</dt>\n",
       "\t\t<dd>461</dd>\n",
       "\t<dt>M</dt>\n",
       "\t\t<dd>6</dd>\n",
       "\t<dt>Masculino</dt>\n",
       "\t\t<dd>521</dd>\n",
       "\t<dt>NA's</dt>\n",
       "\t\t<dd>8</dd>\n",
       "</dl>\n"
      ],
      "text/latex": [
       "\\begin{description*}\n",
       "\\item[F] 2\n",
       "\\item[Fem] 1\n",
       "\\item[Feminino] 461\n",
       "\\item[M] 6\n",
       "\\item[Masculino] 521\n",
       "\\item[NA's] 8\n",
       "\\end{description*}\n"
      ],
      "text/markdown": [
       "F\n",
       ":   2Fem\n",
       ":   1Feminino\n",
       ":   461M\n",
       ":   6Masculino\n",
       ":   521NA's\n",
       ":   8\n",
       "\n"
      ],
      "text/plain": [
       "        F       Fem  Feminino         M Masculino      NA's \n",
       "        2         1       461         6       521         8 "
      ]
     },
     "metadata": {},
     "output_type": "display_data"
    }
   ],
   "source": [
    "summary(dados$Genero)"
   ]
  },
  {
   "cell_type": "code",
   "execution_count": 25,
   "metadata": {},
   "outputs": [],
   "source": [
    "# Transformando os Nas e 'M' em Masculino\n",
    "dados[is.na(dados$Genero) | dados$Genero==\"M\",]$Genero = \"Masculino\""
   ]
  },
  {
   "cell_type": "code",
   "execution_count": 26,
   "metadata": {},
   "outputs": [
    {
     "data": {
      "text/html": [
       "<dl class=dl-horizontal>\n",
       "\t<dt>F</dt>\n",
       "\t\t<dd>2</dd>\n",
       "\t<dt>Fem</dt>\n",
       "\t\t<dd>1</dd>\n",
       "\t<dt>Feminino</dt>\n",
       "\t\t<dd>461</dd>\n",
       "\t<dt>M</dt>\n",
       "\t\t<dd>0</dd>\n",
       "\t<dt>Masculino</dt>\n",
       "\t\t<dd>535</dd>\n",
       "</dl>\n"
      ],
      "text/latex": [
       "\\begin{description*}\n",
       "\\item[F] 2\n",
       "\\item[Fem] 1\n",
       "\\item[Feminino] 461\n",
       "\\item[M] 0\n",
       "\\item[Masculino] 535\n",
       "\\end{description*}\n"
      ],
      "text/markdown": [
       "F\n",
       ":   2Fem\n",
       ":   1Feminino\n",
       ":   461M\n",
       ":   0Masculino\n",
       ":   535\n",
       "\n"
      ],
      "text/plain": [
       "        F       Fem  Feminino         M Masculino \n",
       "        2         1       461         0       535 "
      ]
     },
     "metadata": {},
     "output_type": "display_data"
    }
   ],
   "source": [
    "summary(dados$Genero)"
   ]
  },
  {
   "cell_type": "code",
   "execution_count": 30,
   "metadata": {},
   "outputs": [],
   "source": [
    "# Transformando 'Fem' e 'F' em Feminino\n",
    "dados[dados$Genero=='Fem'|dados$Genero=='F',]$Genero = \"Feminino\""
   ]
  },
  {
   "cell_type": "code",
   "execution_count": 31,
   "metadata": {},
   "outputs": [
    {
     "data": {
      "text/html": [
       "<dl class=dl-horizontal>\n",
       "\t<dt>F</dt>\n",
       "\t\t<dd>0</dd>\n",
       "\t<dt>Fem</dt>\n",
       "\t\t<dd>0</dd>\n",
       "\t<dt>Feminino</dt>\n",
       "\t\t<dd>464</dd>\n",
       "\t<dt>M</dt>\n",
       "\t\t<dd>0</dd>\n",
       "\t<dt>Masculino</dt>\n",
       "\t\t<dd>535</dd>\n",
       "</dl>\n"
      ],
      "text/latex": [
       "\\begin{description*}\n",
       "\\item[F] 0\n",
       "\\item[Fem] 0\n",
       "\\item[Feminino] 464\n",
       "\\item[M] 0\n",
       "\\item[Masculino] 535\n",
       "\\end{description*}\n"
      ],
      "text/markdown": [
       "F\n",
       ":   0Fem\n",
       ":   0Feminino\n",
       ":   464M\n",
       ":   0Masculino\n",
       ":   535\n",
       "\n"
      ],
      "text/plain": [
       "        F       Fem  Feminino         M Masculino \n",
       "        0         0       464         0       535 "
      ]
     },
     "metadata": {},
     "output_type": "display_data"
    }
   ],
   "source": [
    "summary(dados$Genero)"
   ]
  },
  {
   "cell_type": "code",
   "execution_count": 34,
   "metadata": {},
   "outputs": [],
   "source": [
    "dados$Genero = factor(dados$Genero)"
   ]
  },
  {
   "cell_type": "code",
   "execution_count": 35,
   "metadata": {},
   "outputs": [
    {
     "data": {
      "text/html": [
       "<dl class=dl-horizontal>\n",
       "\t<dt>Feminino</dt>\n",
       "\t\t<dd>464</dd>\n",
       "\t<dt>Masculino</dt>\n",
       "\t\t<dd>535</dd>\n",
       "</dl>\n"
      ],
      "text/latex": [
       "\\begin{description*}\n",
       "\\item[Feminino] 464\n",
       "\\item[Masculino] 535\n",
       "\\end{description*}\n"
      ],
      "text/markdown": [
       "Feminino\n",
       ":   464Masculino\n",
       ":   535\n",
       "\n"
      ],
      "text/plain": [
       " Feminino Masculino \n",
       "      464       535 "
      ]
     },
     "metadata": {},
     "output_type": "display_data"
    }
   ],
   "source": [
    "summary(dados$Genero)"
   ]
  },
  {
   "cell_type": "code",
   "execution_count": 36,
   "metadata": {},
   "outputs": [
    {
     "data": {
      "text/plain": [
       "   Min. 1st Qu.  Median    Mean 3rd Qu.    Max. \n",
       "  -20.0    32.0    37.0    38.9    44.0   140.0 "
      ]
     },
     "metadata": {},
     "output_type": "display_data"
    }
   ],
   "source": [
    "## Idades fora do domínio\n",
    "summary(dados$Idade)"
   ]
  },
  {
   "cell_type": "code",
   "execution_count": 37,
   "metadata": {},
   "outputs": [],
   "source": [
    "dados[dados$Idade<0|dados$Idade>110, ]$Idade = median(dados$Idade)"
   ]
  },
  {
   "cell_type": "code",
   "execution_count": 38,
   "metadata": {},
   "outputs": [
    {
     "data": {
      "text/html": [
       "<table>\n",
       "<thead><tr><th scope=col>id</th><th scope=col>Score</th><th scope=col>Estado</th><th scope=col>Genero</th><th scope=col>Idade</th><th scope=col>Patrimonio</th><th scope=col>Saldo</th><th scope=col>Produtos</th><th scope=col>TemCartCredito</th><th scope=col>Ativo</th><th scope=col>Salario</th><th scope=col>Saiu</th></tr></thead>\n",
       "<tbody>\n",
       "</tbody>\n",
       "</table>\n"
      ],
      "text/latex": [
       "\\begin{tabular}{r|llllllllllll}\n",
       " id & Score & Estado & Genero & Idade & Patrimonio & Saldo & Produtos & TemCartCredito & Ativo & Salario & Saiu\\\\\n",
       "\\hline\n",
       "\\end{tabular}\n"
      ],
      "text/markdown": [
       "\n",
       "| id | Score | Estado | Genero | Idade | Patrimonio | Saldo | Produtos | TemCartCredito | Ativo | Salario | Saiu |\n",
       "|---|---|---|---|---|---|---|---|---|---|---|---|\n",
       "\n"
      ],
      "text/plain": [
       "     id Score Estado Genero Idade Patrimonio Saldo Produtos TemCartCredito\n",
       "     Ativo Salario Saiu"
      ]
     },
     "metadata": {},
     "output_type": "display_data"
    }
   ],
   "source": [
    "dados[dados$Idade<0|dados$Idade>110, ]"
   ]
  },
  {
   "cell_type": "code",
   "execution_count": 39,
   "metadata": {},
   "outputs": [
    {
     "data": {
      "text/plain": [
       "   Min. 1st Qu.  Median    Mean 3rd Qu.    Max. \n",
       "    0.0    32.0    37.0    38.9    44.0    82.0 "
      ]
     },
     "metadata": {},
     "output_type": "display_data"
    }
   ],
   "source": [
    "summary(dados$Idade)"
   ]
  },
  {
   "cell_type": "code",
   "execution_count": null,
   "metadata": {},
   "outputs": [],
   "source": []
  }
 ],
 "metadata": {
  "kernelspec": {
   "display_name": "R",
   "language": "R",
   "name": "ir"
  },
  "language_info": {
   "codemirror_mode": "r",
   "file_extension": ".r",
   "mimetype": "text/x-r-source",
   "name": "R",
   "pygments_lexer": "r",
   "version": "3.6.1"
  }
 },
 "nbformat": 4,
 "nbformat_minor": 4
}
